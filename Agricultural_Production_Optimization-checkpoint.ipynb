{
 "cells": [
  {
   "cell_type": "markdown",
   "id": "ddc69490",
   "metadata": {},
   "source": [
    "# Agricultural Production Optimization. data sicience proje#check missing values\n"
   ]
  },
  {
   "cell_type": "raw",
   "id": "87330733",
   "metadata": {},
   "source": []
  },
  {
   "cell_type": "code",
   "execution_count": 4,
   "id": "56d9dc28",
   "metadata": {},
   "outputs": [],
   "source": [
    "import numpy as np\n",
    "import pandas as pd\n",
    "import matplotlib.pyplot as plt\n",
    "import seaborn as sns\n",
    "from ipywidgets import interact"
   ]
  },
  {
   "cell_type": "code",
   "execution_count": 5,
   "id": "e41daf3f",
   "metadata": {},
   "outputs": [
    {
     "name": "stdout",
     "output_type": "stream",
     "text": [
      "        N   P   K  temperature   humidity        ph    rainfall   label\n",
      "0      90  42  43    20.879744  82.002744  6.502985  202.935536    rice\n",
      "1      85  58  41    21.770462  80.319644  7.038096  226.655537    rice\n",
      "2      60  55  44    23.004459  82.320763  7.840207  263.964248    rice\n",
      "3      74  35  40    26.491096  80.158363  6.980401  242.864034    rice\n",
      "4      78  42  42    20.130175  81.604873  7.628473  262.717340    rice\n",
      "...   ...  ..  ..          ...        ...       ...         ...     ...\n",
      "2195  107  34  32    26.774637  66.413269  6.780064  177.774507  coffee\n",
      "2196   99  15  27    27.417112  56.636362  6.086922  127.924610  coffee\n",
      "2197  118  33  30    24.131797  67.225123  6.362608  173.322839  coffee\n",
      "2198  117  32  34    26.272418  52.127394  6.758793  127.175293  coffee\n",
      "2199  104  18  30    23.603016  60.396475  6.779833  140.937041  coffee\n",
      "\n",
      "[2200 rows x 8 columns]\n"
     ]
    }
   ],
   "source": [
    "data=pd.read_csv(\"agricultural_production_optimization_project.csv\")\n",
    "print(data)"
   ]
  },
  {
   "cell_type": "code",
   "execution_count": 6,
   "id": "386f5afc",
   "metadata": {},
   "outputs": [
    {
     "data": {
      "text/plain": [
       "N              0\n",
       "P              0\n",
       "K              0\n",
       "temperature    0\n",
       "humidity       0\n",
       "ph             0\n",
       "rainfall       0\n",
       "label          0\n",
       "dtype: int64"
      ]
     },
     "execution_count": 6,
     "metadata": {},
     "output_type": "execute_result"
    }
   ],
   "source": [
    "#check missing values\n",
    "data.isnull().sum()"
   ]
  },
  {
   "cell_type": "code",
   "execution_count": 7,
   "id": "e07a4e60",
   "metadata": {},
   "outputs": [
    {
     "data": {
      "text/plain": [
       "rice           100\n",
       "maize          100\n",
       "jute           100\n",
       "cotton         100\n",
       "coconut        100\n",
       "papaya         100\n",
       "orange         100\n",
       "apple          100\n",
       "muskmelon      100\n",
       "watermelon     100\n",
       "grapes         100\n",
       "mango          100\n",
       "banana         100\n",
       "pomegranate    100\n",
       "lentil         100\n",
       "blackgram      100\n",
       "mungbean       100\n",
       "mothbeans      100\n",
       "pigeonpeas     100\n",
       "kidneybeans    100\n",
       "chickpea       100\n",
       "coffee         100\n",
       "Name: label, dtype: int64"
      ]
     },
     "execution_count": 7,
     "metadata": {},
     "output_type": "execute_result"
    }
   ],
   "source": [
    "#lets check the crops present in this dataset(with names and numbers)\n",
    "data[\"label\"].value_counts()"
   ]
  },
  {
   "cell_type": "code",
   "execution_count": 8,
   "id": "10489b51",
   "metadata": {},
   "outputs": [
    {
     "name": "stdout",
     "output_type": "stream",
     "text": [
      "Average ratio of Nitogen is the soil:50.55\n",
      "Average ratio of Phoasphorus is the soil:53.36\n",
      "Average ratio of Potassium is the soil:48.15\n",
      "Average ratio of Celsius is the soil:25.62\n",
      "Average ratio of Humidity is the soil:71.48\n",
      "Average ratio of ph value is the soil:6.47\n",
      "Average ratio of Rainfall is the soil:103.46\n"
     ]
    }
   ],
   "source": [
    "#lets check the summary for all the crops (with mean() for average)\n",
    "print(\"Average ratio of Nitogen is the soil:{0:.2f}\".format(data[\"N\"].mean()))\n",
    "print(\"Average ratio of Phoasphorus is the soil:{0:.2f}\".format(data[\"P\"].mean()))\n",
    "print(\"Average ratio of Potassium is the soil:{0:.2f}\".format(data[\"K\"].mean()))\n",
    "print(\"Average ratio of Celsius is the soil:{0:.2f}\".format(data[\"temperature\"].mean()))\n",
    "print(\"Average ratio of Humidity is the soil:{0:.2f}\".format(data[\"humidity\"].mean()))\n",
    "print(\"Average ratio of ph value is the soil:{0:.2f}\".format(data[\"ph\"].mean()))\n",
    "print(\"Average ratio of Rainfall is the soil:{0:.2f}\".format(data[\"rainfall\"].mean()))\n",
    "\n"
   ]
  },
  {
   "cell_type": "code",
   "execution_count": 29,
   "id": "3f3eae35",
   "metadata": {
    "scrolled": true
   },
   "outputs": [
    {
     "data": {
      "application/vnd.jupyter.widget-view+json": {
       "model_id": "346eb8a2a88a4ff794a0c63447e6e9cb",
       "version_major": 2,
       "version_minor": 0
      },
      "text/plain": [
       "interactive(children=(Dropdown(description='conditions', options=('N', 'P', 'K', 'temperature', 'ph', 'humidit…"
      ]
     },
     "metadata": {},
     "output_type": "display_data"
    }
   ],
   "source": [
    "#COMPARE ALL CROPS \n",
    "#LETS COMPARE THE AVERAGE REQUIRMENT FOR EACH CROPS WITH AVERAGE CONDITION\n",
    "\n",
    "@interact\n",
    "def compare(conditions=[\"N\",\"P\",\"K\",\"temperature\",\"ph\",\"humidity\",\"rainfall\"]):\n",
    "    print(\"average value for\",conditions,\"is{0:.2f}\".format(data[conditions].mean()))\n",
    "    \n",
    "    print(\"rice:{0:.2f}\".format(data[data[\"label\"]==\"rice\"][conditions].mean()))\n",
    "    print(\"maize:{0:.2f}\".format(data[data[\"label\"]==\"maize\"][conditions].mean()))\n",
    "    print(\"jute:{0:.2f}\".format(data[data[\"label\"]==\"jute\"][conditions].mean()))\n",
    "    print(\"cotton:{0:.2f}\".format(data[data[\"label\"]==\"cotton\"][conditions].mean()))\n",
    "    print(\"coconut:{0:.2f}\".format(data[data[\"label\"]==\"coconut\"][conditions].mean()))\n",
    "    print(\"papaya:{0:.2f}\".format(data[data[\"label\"]==\"papaya\"][conditions].mean()))\n",
    "    print(\"orange:{0:.2f}\".format(data[data[\"label\"]==\"orange\"][conditions].mean()))\n",
    "    print(\"apple:{0:.2f}\".format(data[data[\"label\"]==\"apple\"][conditions].mean()))\n",
    "    print(\"muskmelon:{0:.2f}\".format(data[data[\"label\"]==\"muskmelon\"][conditions].mean()))\n",
    "    print(\"watermelon:{0:.2f}\".format(data[data[\"label\"]==\"watermelon\"][conditions].mean()))\n",
    "    print(\"grapes:{0:.2f}\".format(data[data[\"label\"]==\"grapes\"][conditions].mean()))\n",
    "    print(\"mango:{0:.2f}\".format(data[data[\"label\"]==\"mango\"][conditions].mean()))\n",
    "    print(\"banana:{0:.2f}\".format(data[data[\"label\"]==\"banana\"][conditions].mean()))\n",
    "    print(\"pomegranate:{0:.2f}\".format(data[data[\"label\"]==\"pomegranate\"][conditions].mean()))\n",
    "    print(\"lentil:{0:.2f}\".format(data[data[\"label\"]==\"lentil\"][conditions].mean()))\n",
    "    print(\"blackgram:{0:.2f}\".format(data[data[\"label\"]==\"blackgram\"][conditions].mean()))\n",
    "    print(\"mungbean:{0:.2f}\".format(data[data[\"label\"]==\"mungbean\"][conditions].mean()))\n",
    "    print(\"mothbeans:{0:.2f}\".format(data[data[\"label\"]==\"mothbeans\"][conditions].mean()))\n",
    "    print(\"pigeonbeans:{0:.2f}\".format(data[data[\"label\"]==\"pigeonbeans\"][conditions].mean()))\n",
    "    print(\"kidneybeans:{0:.2f}\".format(data[data[\"label\"]==\"kidneybeans\"][conditions].mean()))\n",
    "    print(\"chickpea:{0:.2f}\".format(data[data[\"label\"]==\"chickpea\"][conditions].mean()))\n",
    "    print(\"coffee:{0:.2f}\".format(data[data[\"label\"]==\"coffee\"][conditions].mean()))\n",
    "    \n",
    "    "
   ]
  },
  {
   "cell_type": "code",
   "execution_count": 14,
   "id": "f530cb1c",
   "metadata": {},
   "outputs": [
    {
     "data": {
      "application/vnd.jupyter.widget-view+json": {
       "model_id": "6c7badaa5f6341399cf646bcc51d0ee6",
       "version_major": 2,
       "version_minor": 0
      },
      "text/plain": [
       "interactive(children=(Dropdown(description='crops', options=('rice', 'maize', 'jute', 'cotton', 'coconut', 'pa…"
      ]
     },
     "metadata": {},
     "output_type": "display_data"
    }
   ],
   "source": [
    "#what every crop needs in detail\n",
    "@interact\n",
    "def summary(crops=list(data[\"label\"].value_counts().index)):\n",
    "    x=data[data[\"label\"]==crops]\n",
    "    \n",
    "    print(\"-------------------------------------------------------------------\")\n",
    "    print(\"statistics for Nitrogen\")\n",
    "    print(\"minimum nitrogen requred :\",x[\"N\"].min())\n",
    "    print(\"average nitrogen required :\",x[\"N\"].mean())\n",
    "    print(\"maximum nitrogen required :\",x[\"N\"].mean())\n",
    "    \n",
    "    print(\"-------------------------------------------------------------------\")\n",
    "    print(\"statistics for Potassium\")\n",
    "    print(\"minimum potassium requred :\",x[\"K\"].min())\n",
    "    print(\"average potassium required :\",x[\"K\"].mean())\n",
    "    print(\"maximum potassium required :\",x[\"K\"].mean())\n",
    "    \n",
    "    print(\"-------------------------------------------------------------------\")\n",
    "    print(\"statistics for Phosphorus\")\n",
    "    print(\"minimum PHOSPHORUS required :\",x[\"P\"].min())\n",
    "    print(\"average PHOSPHORUS required :\",x[\"P\"].mean())\n",
    "    print(\"maximum PHOSPHORUS required :\",x[\"P\"].mean())\n",
    "    \n",
    "    print(\"-------------------------------------------------------------------\")\n",
    "    print(\"statistics for TEMPERATURE\")\n",
    "    print(\"minimum TEMPERATURE requried :{O,2f}\",format(x[\"temperature\"].min()))\n",
    "    print(\"average TEMPERATURE required :{0,2f}\",format(x[\"temperature\"].mean()))\n",
    "    print(\"maximum TEMPERATURE required :{0,2f}\",format(x[\"temperature\"].mean()))\n",
    "    \n",
    "    print(\"-------------------------------------------------------------------\")\n",
    "    print(\"statistics for HUMIDITY\")\n",
    "    print(\"minimum HUMDITY required :\",format(x[\"humidity\"].min()))\n",
    "    print(\"average HUMIDITY required :\",format(x[\"humidity\"].mean()))\n",
    "    print(\"maximum HUMIDITY required :\",format(x[\"humidity\"].mean()))\n",
    "    \n",
    "    print(\"-------------------------------------------------------------------\")\n",
    "    print(\"statistics for PH\")\n",
    "    print(\"minimum PH requried :\",format(x[\"ph\"].min()))\n",
    "    print(\"average PH required :\",format(x[\"ph\"].mean()))\n",
    "    print(\"maximum PH required :\",format(x[\"ph\"].mean()))\n",
    "    \n",
    "    print(\"-------------------------------------------------------------------\")\n",
    "    print(\"statistics for RAINFALL\")\n",
    "    print(\"minimum RAINFALL required :\",format(x[\"rainfall\"].min()))\n",
    "    print(\"average RAINFALL required :\",format(x[\"rainfall\"].mean()))\n",
    "    print(\"maximum RAINFALL required :\",format(x[\"rainfall\"].mean()))\n",
    "    \n",
    "    \n",
    "    "
   ]
  },
  {
   "cell_type": "code",
   "execution_count": 32,
   "id": "1d399c53",
   "metadata": {},
   "outputs": [
    {
     "data": {
      "application/vnd.jupyter.widget-view+json": {
       "model_id": "9c148ab2259b439bacdd745e801c82c2",
       "version_major": 2,
       "version_minor": 0
      },
      "text/plain": [
       "interactive(children=(Dropdown(description='conditions', options=('N', 'P', 'K', 'temperature', 'ph', 'humidit…"
      ]
     },
     "metadata": {},
     "output_type": "display_data"
    }
   ],
   "source": [
    "@interact\n",
    "def compare(conditions=[\"N\",\"P\",\"K\",\"temperature\",\"ph\",\"humidity\",\"rainfall\"]):\n",
    "    \n",
    "    print(\"------------------------------------------------------------------\")\n",
    "    print(\"crops which require greaterthan average\",conditions,\"\\n\")\n",
    "    print(data[data[conditions]>data[conditions].mean()][\"label\"].unique())\n",
    "    print(\"------------------------------------------------------------------\")\n",
    "    print(\"crops which require lessthan average\",conditions,\"\\n\")\n",
    "    print(data[data[conditions]<=data[conditions].mean()][\"label\"].unique())\n"
   ]
  },
  {
   "cell_type": "code",
   "execution_count": null,
   "id": "a787ada4",
   "metadata": {},
   "outputs": [],
   "source": []
  }
 ],
 "metadata": {
  "kernelspec": {
   "display_name": "Python 3 (ipykernel)",
   "language": "python",
   "name": "python3"
  },
  "language_info": {
   "codemirror_mode": {
    "name": "ipython",
    "version": 3
   },
   "file_extension": ".py",
   "mimetype": "text/x-python",
   "name": "python",
   "nbconvert_exporter": "python",
   "pygments_lexer": "ipython3",
   "version": "3.9.12"
  }
 },
 "nbformat": 4,
 "nbformat_minor": 5
}
